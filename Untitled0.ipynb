{
  "nbformat": 4,
  "nbformat_minor": 0,
  "metadata": {
    "colab": {
      "provenance": [],
      "authorship_tag": "ABX9TyNA7VSXSnMILO6CtQ7LhvZF",
      "include_colab_link": true
    },
    "kernelspec": {
      "name": "python3",
      "display_name": "Python 3"
    },
    "language_info": {
      "name": "python"
    }
  },
  "cells": [
    {
      "cell_type": "markdown",
      "metadata": {
        "id": "view-in-github",
        "colab_type": "text"
      },
      "source": [
        "<a href=\"https://colab.research.google.com/github/SumanMaity9748/Python/blob/main/Untitled0.ipynb\" target=\"_parent\"><img src=\"https://colab.research.google.com/assets/colab-badge.svg\" alt=\"Open In Colab\"/></a>"
      ]
    },
    {
      "cell_type": "code",
      "execution_count": null,
      "metadata": {
        "colab": {
          "base_uri": "https://localhost:8080/"
        },
        "id": "9qZNPalVOWJw",
        "outputId": "44d45360-1a37-4e7c-a054-47b3671b81d4"
      },
      "outputs": [
        {
          "output_type": "stream",
          "name": "stdout",
          "text": [
            "[1, 2, 3, 4, 5, 6, 7]\n"
          ]
        }
      ],
      "source": [
        "a=[1,2,3,4,5,6,7,6,4,2,1,7,5]\n",
        "b = set(a)\n",
        "new_list = list(b)\n",
        "print(new_list)"
      ]
    },
    {
      "cell_type": "code",
      "source": [
        "def second_smallest(l):\n",
        "  smallest = min(l)\n",
        "  new_l = l.remove(smallest)\n",
        "  second_smallest = min(new_l) \n",
        "  return second_smallest\n"
      ],
      "metadata": {
        "id": "iDPVUGVLVxZi"
      },
      "execution_count": null,
      "outputs": []
    },
    {
      "cell_type": "code",
      "source": [
        "def most_common_char(s):\n",
        "  freq={}\n",
        "  for char in s:\n",
        "    if char in freq:\n",
        "      freq[char] +=1\n",
        "    else:\n",
        "      freq[char] = 1\n",
        "  max_freq = max(freq.values())\n",
        "  for char, count in freq:\n",
        "    if count == max_freq:\n",
        "      return char\n",
        "\n"
      ],
      "metadata": {
        "id": "Jd9b26MaYwIV"
      },
      "execution_count": null,
      "outputs": []
    },
    {
      "cell_type": "code",
      "source": [
        "def product_list(l):\n",
        "  if not l:\n",
        "    return None\n",
        "  s = 1\n",
        "  for el in l:\n",
        "    s = s*el\n",
        "  return s"
      ],
      "metadata": {
        "id": "NCB_J5Abi6kO"
      },
      "execution_count": null,
      "outputs": []
    },
    {
      "cell_type": "code",
      "source": [
        "def even_num_list(l):\n",
        "  even_list = [x for x in l if x%2==0]\n",
        "  return even_list\n",
        "l=[1,2,3,4,5,6,7,8,9,10]\n",
        "print(even_num_list(l))"
      ],
      "metadata": {
        "colab": {
          "base_uri": "https://localhost:8080/"
        },
        "id": "4Plh0Bx3jjKX",
        "outputId": "5583ee23-48b2-4ef5-e08a-6dc68aefdad6"
      },
      "execution_count": null,
      "outputs": [
        {
          "output_type": "stream",
          "name": "stdout",
          "text": [
            "[2, 4, 6, 8, 10]\n"
          ]
        }
      ]
    },
    {
      "cell_type": "code",
      "source": [
        "def common_chars(s1, s2):\n",
        "  for char in s1.lower():\n",
        "    if char in s2.lower():\n",
        "      common = \"\".join(char)\n",
        "  return common\n",
        "\n",
        "print(common_chars(\"Hello\", \"World\"))\n"
      ],
      "metadata": {
        "colab": {
          "base_uri": "https://localhost:8080/"
        },
        "id": "qT-6MN9WkICn",
        "outputId": "9ce42665-bd41-4971-c978-64eea16a4417"
      },
      "execution_count": null,
      "outputs": [
        {
          "output_type": "stream",
          "name": "stdout",
          "text": [
            "o\n"
          ]
        }
      ]
    },
    {
      "cell_type": "code",
      "source": [
        "def intersect_list(l1, l2):\n",
        "  set1 = set(l1)\n",
        "  set2 = set(l2)\n",
        "  set3 = set1&set2\n",
        "  final_list = list(set3)\n",
        "  return final_list\n",
        "input1 = [1, 2, 3, 4, 5]\n",
        "input2 = [3, 4, 5, 6, 7]\n",
        "print(intersect_list(input1, input2))\n"
      ],
      "metadata": {
        "id": "D-MvsZZwlDUM",
        "colab": {
          "base_uri": "https://localhost:8080/"
        },
        "outputId": "ea438bd8-c863-40f7-d3e1-499a68365629"
      },
      "execution_count": null,
      "outputs": [
        {
          "output_type": "stream",
          "name": "stdout",
          "text": [
            "[3, 4, 5]\n"
          ]
        }
      ]
    },
    {
      "cell_type": "code",
      "source": [
        "def check_palindrome(s):\n",
        "  return s.lower()==s[::-1].lower()\n",
        "print(check_palindrome(s = \"racecar\"))"
      ],
      "metadata": {
        "colab": {
          "base_uri": "https://localhost:8080/"
        },
        "id": "PmuWnFQIrq8Q",
        "outputId": "4a68b357-f1f4-42de-894a-fa64449d7285"
      },
      "execution_count": null,
      "outputs": [
        {
          "output_type": "stream",
          "name": "stdout",
          "text": [
            "True\n"
          ]
        }
      ]
    },
    {
      "cell_type": "code",
      "source": [
        "def even_list(l):\n",
        "  new_list = [x for x in l if x%2==0]\n",
        "  return new_list\n",
        "print(even_list(l=[1,2,3,4,5,6,7,8,9,10]))"
      ],
      "metadata": {
        "colab": {
          "base_uri": "https://localhost:8080/"
        },
        "id": "s6ZLzAX0sqLZ",
        "outputId": "898cbff6-c68b-484a-d147-ef818eb2f6b8"
      },
      "execution_count": null,
      "outputs": [
        {
          "output_type": "stream",
          "name": "stdout",
          "text": [
            "[2, 4, 6, 8, 10]\n"
          ]
        }
      ]
    },
    {
      "cell_type": "code",
      "source": [
        "def remove_vowels_from_string(s):\n",
        "    vowels = \"aeiouAEIOU\"\n",
        "    new_string = \"\"\n",
        "    for char in s:\n",
        "        if char not in vowels:\n",
        "            new_string += char\n",
        "    return new_string\n",
        "\n",
        "print(remove_vowels_from_string(s = \"Hello\"))"
      ],
      "metadata": {
        "colab": {
          "base_uri": "https://localhost:8080/"
        },
        "id": "JI12UFQet37w",
        "outputId": "3677c754-8699-4608-bca5-a57f491c105a"
      },
      "execution_count": null,
      "outputs": [
        {
          "output_type": "stream",
          "name": "stdout",
          "text": [
            "l\n"
          ]
        }
      ]
    },
    {
      "cell_type": "code",
      "source": [],
      "metadata": {
        "id": "_P9NkNkHvSO4"
      },
      "execution_count": null,
      "outputs": []
    }
  ]
}